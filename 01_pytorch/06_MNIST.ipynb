{
 "cells": [
  {
   "cell_type": "markdown",
   "id": "furnished-press",
   "metadata": {},
   "source": [
    "### 라이브러리 불러오기"
   ]
  },
  {
   "cell_type": "code",
   "execution_count": 1,
   "id": "sought-frank",
   "metadata": {},
   "outputs": [
    {
     "name": "stderr",
     "output_type": "stream",
     "text": [
      "Setting up a new session...\n"
     ]
    }
   ],
   "source": [
    "import idx2numpy                                     # 데이터 로드\n",
    "import matplotlib.pyplot as plt                      # 그래프 표기\n",
    "import numpy as np                                   \n",
    "from sklearn.model_selection import train_test_split\n",
    "import visdom                                        # Visdom\n",
    "vis = visdom.Visdom()                                # new Visdom server setting\n",
    "\n",
    "import torch                                         # 파이토치\n",
    "import torch.nn as nn\n",
    "import torch.nn.functional as F\n",
    "from torch.utils.data import Dataset\n",
    "from torch.utils.data import DataLoader"
   ]
  },
  {
   "cell_type": "markdown",
   "id": "accessible-coverage",
   "metadata": {},
   "source": [
    "### 하이퍼파라미터 설정"
   ]
  },
  {
   "cell_type": "code",
   "execution_count": 2,
   "id": "missing-director",
   "metadata": {},
   "outputs": [],
   "source": [
    "class CFG:\n",
    "    learning_rate = 0.001\n",
    "    epochs = 20\n",
    "    batch_size = 64\n",
    "    device = 'cuda' if torch.cuda.is_available() else 'cpu'\n",
    "    seed = 42\n",
    "    shuffle = True\n",
    "    eps = 1e-7"
   ]
  },
  {
   "cell_type": "markdown",
   "id": "knowing-biotechnology",
   "metadata": {},
   "source": [
    "### Seed 설정"
   ]
  },
  {
   "cell_type": "code",
   "execution_count": 3,
   "id": "promotional-april",
   "metadata": {},
   "outputs": [],
   "source": [
    "torch.manual_seed(CFG.seed)\n",
    "if CFG.device == 'cuda':\n",
    "    torch.cuda.manual_seed_all(CFG.seed)"
   ]
  },
  {
   "cell_type": "markdown",
   "id": "continent-october",
   "metadata": {},
   "source": [
    "### 데이터 불러오기"
   ]
  },
  {
   "cell_type": "code",
   "execution_count": 4,
   "id": "subject-choir",
   "metadata": {},
   "outputs": [
    {
     "name": "stdout",
     "output_type": "stream",
     "text": [
      "(60000, 28, 28)\n",
      "(60000,)\n",
      "(10000, 28, 28)\n",
      "(10000,)\n"
     ]
    }
   ],
   "source": [
    "# Data source: http://yann.lecun.com/exdb/mnist/\n",
    "train_data = idx2numpy.convert_from_file('data/train-images.idx3-ubyte')\n",
    "train_label = idx2numpy.convert_from_file('data/train-labels.idx1-ubyte')\n",
    "\n",
    "test_data = idx2numpy.convert_from_file('data/t10k-images.idx3-ubyte')\n",
    "test_label = idx2numpy.convert_from_file('data/t10k-labels.idx1-ubyte')\n",
    "\n",
    "print(train_data.shape)\n",
    "print(train_label.shape)\n",
    "print(test_data.shape)\n",
    "print(test_label.shape)"
   ]
  },
  {
   "cell_type": "markdown",
   "id": "czech-colombia",
   "metadata": {},
   "source": [
    "### 데이터 확인"
   ]
  },
  {
   "cell_type": "code",
   "execution_count": 5,
   "id": "active-assembly",
   "metadata": {},
   "outputs": [
    {
     "data": {
      "image/png": "[encoded data removed]",
      "text/plain": [
       "<Figure size 432x288 with 1 Axes>"
      ]
     },
     "metadata": {
      "needs_background": "light"
     },
     "output_type": "display_data"
    }
   ],
   "source": [
    "index = 0\n",
    "data = train_data[index]\n",
    "label = train_label[index]\n",
    "\n",
    "plt.title('Label = %s'%(label))\n",
    "plt.imshow(data, cmap='Greys')\n",
    "plt.show()"
   ]
  },
  {
   "cell_type": "markdown",
   "id": "careful-rochester",
   "metadata": {},
   "source": [
    "### 원핫 인코딩"
   ]
  },
  {
   "cell_type": "code",
   "execution_count": 6,
   "id": "remarkable-tooth",
   "metadata": {},
   "outputs": [
    {
     "name": "stdout",
     "output_type": "stream",
     "text": [
      "(60000, 10)\n",
      "(10000, 10)\n"
     ]
    }
   ],
   "source": [
    "train_onehot = np.full((len(train_label), 10), 0)\n",
    "for i, index in enumerate(train_label):\n",
    "    train_onehot[i, index] = 1\n",
    "    \n",
    "test_onehot = np.full((len(test_label), 10), 0)\n",
    "for i, index in enumerate(test_label):\n",
    "    test_onehot[i, index] = 1\n",
    "    \n",
    "print(train_onehot.shape)\n",
    "print(test_onehot.shape)"
   ]
  },
  {
   "cell_type": "markdown",
   "id": "fixed-praise",
   "metadata": {},
   "source": [
    "### 데이터 로더"
   ]
  },
  {
   "cell_type": "code",
   "execution_count": 7,
   "id": "polyphonic-wireless",
   "metadata": {},
   "outputs": [],
   "source": [
    "class MNIST_Dataset(Dataset):\n",
    "    def __init__(self, x_data, y_data):\n",
    "        assert len(x_data) == len(y_data)\n",
    "        self.x_data = x_data.copy()\n",
    "        self.y_data = y_data.copy()\n",
    "                \n",
    "        self.x_data = self.x_data / 255\n",
    "        self.x_data = self.x_data.reshape(-1, 1, 28, 28)\n",
    "        \n",
    "    def __len__(self):\n",
    "        return len(self.x_data)\n",
    "    \n",
    "    def __getitem__(self, idx):\n",
    "        x = torch.FloatTensor(self.x_data[idx])\n",
    "        y = torch.FloatTensor(self.y_data[idx])\n",
    "        return x, y"
   ]
  },
  {
   "cell_type": "code",
   "execution_count": 8,
   "id": "patent-nitrogen",
   "metadata": {},
   "outputs": [
    {
     "data": {
      "text/plain": [
       "(60000, 10)"
      ]
     },
     "execution_count": 8,
     "metadata": {},
     "output_type": "execute_result"
    }
   ],
   "source": [
    "train_onehot.shape"
   ]
  },
  {
   "cell_type": "code",
   "execution_count": 9,
   "id": "sweet-projection",
   "metadata": {},
   "outputs": [
    {
     "name": "stdout",
     "output_type": "stream",
     "text": [
      "48000\n",
      "12000\n",
      "10000\n"
     ]
    }
   ],
   "source": [
    "x_train, x_valid, y_train, y_valid = train_test_split(train_data, train_onehot, test_size=0.2, random_state=CFG.seed)\n",
    "x_test, y_test = test_data, test_onehot\n",
    "\n",
    "train_dataset = MNIST_Dataset(x_train, y_train)\n",
    "valid_dataset = MNIST_Dataset(x_valid, y_valid)\n",
    "test_dataset = MNIST_Dataset(x_test, y_test)\n",
    "\n",
    "print(len(train_dataset))\n",
    "print(len(valid_dataset))\n",
    "print(len(test_dataset))"
   ]
  },
  {
   "cell_type": "code",
   "execution_count": 10,
   "id": "wrapped-inspiration",
   "metadata": {},
   "outputs": [
    {
     "name": "stdout",
     "output_type": "stream",
     "text": [
      "torch.Size([48000, 1, 28, 28])\n",
      "torch.Size([48000, 10])\n"
     ]
    }
   ],
   "source": [
    "x, y = train_dataset[:]\n",
    "print(x.shape)\n",
    "print(y.shape)"
   ]
  },
  {
   "cell_type": "code",
   "execution_count": 11,
   "id": "light-still",
   "metadata": {},
   "outputs": [],
   "source": [
    "dataloader = DataLoader(train_dataset, batch_size=CFG.batch_size, shuffle=CFG.shuffle)"
   ]
  },
  {
   "cell_type": "code",
   "execution_count": 12,
   "id": "union-attention",
   "metadata": {},
   "outputs": [],
   "source": [
    "for samples in dataloader:\n",
    "    x_train, y_train = samples\n",
    "    break"
   ]
  },
  {
   "cell_type": "code",
   "execution_count": 13,
   "id": "heated-dylan",
   "metadata": {},
   "outputs": [
    {
     "name": "stdout",
     "output_type": "stream",
     "text": [
      "torch.Size([64, 1, 28, 28])\n",
      "torch.Size([64, 10])\n"
     ]
    }
   ],
   "source": [
    "print(x_train.shape)\n",
    "print(y_train.shape)"
   ]
  },
  {
   "cell_type": "markdown",
   "id": "amended-health",
   "metadata": {},
   "source": [
    "### 모델 만들기"
   ]
  },
  {
   "cell_type": "code",
   "execution_count": 14,
   "id": "enormous-testament",
   "metadata": {},
   "outputs": [],
   "source": [
    "class CNN_MODEL(nn.Module):\n",
    "    def __init__(self):\n",
    "        super(CNN_MODEL, self).__init__()\n",
    "        self.conv1 = nn.Conv2d(in_channels=1, out_channels=32, kernel_size=3, stride=1, padding=1)\n",
    "        self.max_1 = nn.MaxPool2d(2)\n",
    "        \n",
    "        self.conv2 = nn.Conv2d(in_channels=32, out_channels=64, kernel_size=3, stride=1, padding=1)\n",
    "        self.max_2 = nn.MaxPool2d(2)\n",
    "        \n",
    "        self.linear = nn.Linear(in_features=64*7*7, out_features=10, bias=True)\n",
    "        \n",
    "    def forward(self, x):\n",
    "        x = self.conv1(x)\n",
    "        x = F.relu(x)\n",
    "        x = self.max_1(x)\n",
    "        \n",
    "        x = self.conv2(x)\n",
    "        x = F.relu(x)\n",
    "        x = self.max_2(x)\n",
    "        \n",
    "        x = x.view(-1, 64*7*7)\n",
    "        x = self.linear(x) \n",
    "        x = F.softmax(x, dim=1)\n",
    "        return x"
   ]
  },
  {
   "cell_type": "code",
   "execution_count": 15,
   "id": "technical-mambo",
   "metadata": {},
   "outputs": [],
   "source": [
    "def init_weights(m):\n",
    "    if type(m) == nn.Linear:\n",
    "        torch.nn.init.xavier_uniform_(m.weight)\n",
    "        m.bias.data.fill_(0.01)\n",
    "model = CNN_MODEL().to(CFG.device)\n",
    "model.apply(init_weights)\n",
    "\n",
    "optimizer = torch.optim.Adam(model.parameters(), lr=CFG.learning_rate)\n",
    "\n",
    "def logloss(true, pred):\n",
    "    return torch.mean(-1 * torch.sum(true * torch.log(pred + CFG.eps), axis=1))"
   ]
  },
  {
   "cell_type": "markdown",
   "id": "spiritual-kazakhstan",
   "metadata": {},
   "source": [
    "### 모델 훈련"
   ]
  },
  {
   "cell_type": "code",
   "execution_count": 16,
   "id": "minute-stupid",
   "metadata": {},
   "outputs": [
    {
     "name": "stdout",
     "output_type": "stream",
     "text": [
      "Training: 0.209470, Validation: 0.074034\n",
      "Training: 0.061497, Validation: 0.061836\n",
      "Training: 0.044468, Validation: 0.057407\n",
      "Training: 0.035232, Validation: 0.043119\n",
      "Training: 0.027314, Validation: 0.042162\n",
      "Training: 0.022846, Validation: 0.043081\n",
      "Training: 0.019142, Validation: 0.043678\n",
      "Training: 0.015040, Validation: 0.042822\n",
      "Training: 0.012421, Validation: 0.043053\n",
      "Training: 0.010754, Validation: 0.049524\n",
      "Training: 0.008267, Validation: 0.049193\n",
      "Training: 0.007814, Validation: 0.050953\n",
      "Training: 0.006937, Validation: 0.054596\n",
      "Training: 0.006197, Validation: 0.064391\n",
      "Training: 0.005554, Validation: 0.050557\n",
      "Training: 0.004257, Validation: 0.056808\n",
      "Training: 0.003982, Validation: 0.060174\n",
      "Training: 0.004406, Validation: 0.059289\n",
      "Training: 0.004893, Validation: 0.054291\n",
      "Training: 0.001898, Validation: 0.057278\n"
     ]
    }
   ],
   "source": [
    "for epoch in range(CFG.epochs):\n",
    "    _train_loss = []\n",
    "    for samples in dataloader:\n",
    "        x_train, y_train = samples\n",
    "        x_train, y_train = x_train.to(CFG.device), y_train.to(CFG.device)\n",
    "       \n",
    "        pred = model(x_train)    \n",
    "        loss = logloss(y_train, pred)\n",
    "        _train_loss.append(loss.item())\n",
    "        \n",
    "        optimizer.zero_grad()\n",
    "        loss.backward()\n",
    "        optimizer.step()\n",
    "        \n",
    "    train_loss = np.mean(_train_loss)\n",
    "    \n",
    "    with torch.no_grad():\n",
    "        x_valid, y_valid = valid_dataset[:]\n",
    "        x_valid, y_valid = x_valid.to(CFG.device), y_valid.to(CFG.device)\n",
    "\n",
    "        pred = model(x_valid)\n",
    "        loss = logloss(y_valid, pred)\n",
    "        valid_loss = loss.item()    \n",
    "    \n",
    "    if epoch == 0:\n",
    "        plt = vis.line(\n",
    "            X=[[epoch, epoch]], \n",
    "            Y=[[train_loss, valid_loss]], \n",
    "            opts = {\n",
    "                'xlabel': 'Epoch',\n",
    "                'ylabel': 'Loss',\n",
    "                'legend': ['Training', 'Validation'],\n",
    "                'showlegend': True\n",
    "            },\n",
    "        )\n",
    "    else:\n",
    "        vis.line(\n",
    "            X=[[epoch, epoch]], \n",
    "            Y=[[train_loss, valid_loss]], \n",
    "            win=plt, \n",
    "            update=\"append\"\n",
    "        )\n",
    "\n",
    "    print('Training: %.6f, Validation: %.6f'%(train_loss, valid_loss))"
   ]
  },
  {
   "cell_type": "markdown",
   "id": "exotic-wallace",
   "metadata": {},
   "source": [
    "### 모델 테스트"
   ]
  },
  {
   "cell_type": "code",
   "execution_count": 17,
   "id": "excellent-consideration",
   "metadata": {},
   "outputs": [
    {
     "name": "stdout",
     "output_type": "stream",
     "text": [
      "Test Accuracy: 98.97 %\n"
     ]
    }
   ],
   "source": [
    "with torch.no_grad():\n",
    "    x_test, y_test = test_dataset[:]\n",
    "    x_test = x_test.to(CFG.device)\n",
    "    y_test = y_test.to(CFG.device)\n",
    "    \n",
    "    pred = model(x_test)\n",
    "    pred = torch.argmax(pred, axis=1).cpu().detach().numpy()\n",
    "    true = torch.argmax(y_test, axis=1).cpu().detach().numpy()\n",
    "    accuracy = np.mean(pred == true)\n",
    "\n",
    "print('Test Accuracy: %.2f %%'%(100*accuracy))"
   ]
  }
 ],
 "metadata": {
  "kernelspec": {
   "display_name": "Python [conda env:pytorch]",
   "language": "python",
   "name": "conda-env-pytorch-py"
  },
  "language_info": {
   "codemirror_mode": {
    "name": "ipython",
    "version": 3
   },
   "file_extension": ".py",
   "mimetype": "text/x-python",
   "name": "python",
   "nbconvert_exporter": "python",
   "pygments_lexer": "ipython3",
   "version": "3.7.9"
  }
 },
 "nbformat": 4,
 "nbformat_minor": 5
}
