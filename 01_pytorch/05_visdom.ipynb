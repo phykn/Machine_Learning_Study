{
 "cells": [
  {
   "cell_type": "code",
   "execution_count": 1,
   "id": "inclusive-berlin",
   "metadata": {},
   "outputs": [
    {
     "name": "stderr",
     "output_type": "stream",
     "text": [
      "Setting up a new session...\n"
     ]
    }
   ],
   "source": [
    "import visdom\n",
    "vis = visdom.Visdom()"
   ]
  },
  {
   "cell_type": "markdown",
   "id": "verbal-graphics",
   "metadata": {},
   "source": [
    "### 텍스트 표기"
   ]
  },
  {
   "cell_type": "code",
   "execution_count": 2,
   "id": "martial-calculation",
   "metadata": {},
   "outputs": [
    {
     "data": {
      "text/plain": [
       "'window_3960822c707eae'"
      ]
     },
     "execution_count": 2,
     "metadata": {},
     "output_type": "execute_result"
    }
   ],
   "source": [
    "vis.text(\"Hello wolrd\", env=\"main\")"
   ]
  },
  {
   "cell_type": "markdown",
   "id": "proud-chicago",
   "metadata": {},
   "source": [
    "### 그림 표기"
   ]
  },
  {
   "cell_type": "code",
   "execution_count": 3,
   "id": "experienced-channels",
   "metadata": {},
   "outputs": [
    {
     "data": {
      "text/plain": [
       "'window_3960822c782198'"
      ]
     },
     "execution_count": 3,
     "metadata": {},
     "output_type": "execute_result"
    }
   ],
   "source": [
    "import numpy as np\n",
    "r = np.random.randn(3, 200, 200)\n",
    "vis.image(r) # 출력"
   ]
  },
  {
   "cell_type": "markdown",
   "id": "characteristic-staff",
   "metadata": {},
   "source": [
    "### 그래프 그리기"
   ]
  },
  {
   "cell_type": "code",
   "execution_count": 4,
   "id": "killing-manitoba",
   "metadata": {},
   "outputs": [],
   "source": [
    "Y_data = np.random.randn(5)\n",
    "plt = vis.line(Y=Y_data)"
   ]
  },
  {
   "cell_type": "code",
   "execution_count": 5,
   "id": "whole-behalf",
   "metadata": {},
   "outputs": [],
   "source": [
    "for i in range(100):\n",
    "    X_append = [i]\n",
    "    Y_append = np.random.randn(1)\n",
    "    vis.line(\n",
    "        X=X_append, \n",
    "        Y=Y_append, \n",
    "        win=plt,\n",
    "        update=\"append\"\n",
    "    )"
   ]
  }
 ],
 "metadata": {
  "kernelspec": {
   "display_name": "Python [conda env:pytorch]",
   "language": "python",
   "name": "conda-env-pytorch-py"
  },
  "language_info": {
   "codemirror_mode": {
    "name": "ipython",
    "version": 3
   },
   "file_extension": ".py",
   "mimetype": "text/x-python",
   "name": "python",
   "nbconvert_exporter": "python",
   "pygments_lexer": "ipython3",
   "version": "3.7.9"
  }
 },
 "nbformat": 4,
 "nbformat_minor": 5
}
