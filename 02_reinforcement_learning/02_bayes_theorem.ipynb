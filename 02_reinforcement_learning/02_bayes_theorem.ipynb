{
 "cells": [
  {
   "cell_type": "markdown",
   "id": "variable-lottery",
   "metadata": {},
   "source": [
    "### Bayes' Theorem"
   ]
  },
  {
   "cell_type": "markdown",
   "id": "wound-anthropology",
   "metadata": {},
   "source": [
    "#####  | Notation\n",
    "> $P(A, B) = P(A \\cap B)$  \n",
    "> $P(A, B | C) = P((A \\cap B)| C)$  "
   ]
  },
  {
   "cell_type": "markdown",
   "id": "general-indian",
   "metadata": {},
   "source": [
    "#####  | Conditional probability\n",
    "> $P(A|B) = P(A, B) / P(B)$"
   ]
  },
  {
   "cell_type": "markdown",
   "id": "collect-resistance",
   "metadata": {},
   "source": [
    "#####  | Theorem #1\n",
    "> $P(A|B)P(B) = P(B|A)P(A)$\n",
    "\n",
    "> ##### Proof\n",
    ">> $\n",
    "\\begin{aligned}\n",
    "P(A, B) &= P(A|B)P(B) \\\\\n",
    "P(B, A) &= P(B|A)P(A) \\\\\n",
    "P(A, B) &= P(B, A)\n",
    "\\end{aligned}\n",
    "$\n",
    "\n",
    ">> $\\therefore P(A|B)P(B) = P(B|A)P(A)$"
   ]
  },
  {
   "cell_type": "markdown",
   "id": "motivated-venice",
   "metadata": {},
   "source": [
    "#####  | Theorem #2\n",
    "> $P(A,B|C) = P(A|B, C)P(B|C)$\n",
    "\n",
    "> ##### Proof\n",
    ">> $\n",
    "\\begin{aligned}\n",
    "P(A, B|C) &= P(A, B, C) / P(C) \\\\\n",
    "&= P(A|B, C) P(B, C) / P(C) \\\\\n",
    "&= P(A|B, C) P(B|C)\n",
    "\\end{aligned}\n",
    "$"
   ]
  }
 ],
 "metadata": {
  "kernelspec": {
   "display_name": "Python [conda env:pytorch]",
   "language": "python",
   "name": "conda-env-pytorch-py"
  },
  "language_info": {
   "codemirror_mode": {
    "name": "ipython",
    "version": 3
   },
   "file_extension": ".py",
   "mimetype": "text/x-python",
   "name": "python",
   "nbconvert_exporter": "python",
   "pygments_lexer": "ipython3",
   "version": "3.7.9"
  }
 },
 "nbformat": 4,
 "nbformat_minor": 5
}
