{
 "cells": [
  {
   "cell_type": "markdown",
   "id": "future-width",
   "metadata": {},
   "source": [
    "### Bayes' Theorem"
   ]
  },
  {
   "cell_type": "markdown",
   "id": "romantic-beginning",
   "metadata": {},
   "source": [
    "#####  | Notation\n",
    "> $P(A, B) = P(A \\cap B)$  \n",
    "> $P(A, B | C) = P((A \\cap B)| C)$  "
   ]
  },
  {
   "cell_type": "markdown",
   "id": "entire-postcard",
   "metadata": {},
   "source": [
    "#####  | Conditional probability\n",
    "> $P(A|B) = P(A, B) / P(B)$"
   ]
  },
  {
   "cell_type": "markdown",
   "id": "exciting-trash",
   "metadata": {},
   "source": [
    "#####  | Theorem #1\n",
    "> $P(A|B)P(B) = P(B|A)P(A)$\n",
    "\n",
    "> __Proof__\n",
    ">> $\n",
    "\\begin{aligned}\n",
    "P(A, B) &= P(A|B)P(B) \\\\\n",
    "P(B, A) &= P(B|A)P(A) \\\\\n",
    "P(A, B) &= P(B, A)\n",
    "\\end{aligned}\n",
    "$\n",
    "\n",
    ">> $\\therefore P(A|B)P(B) = P(B|A)P(A)$"
   ]
  },
  {
   "cell_type": "markdown",
   "id": "cross-transsexual",
   "metadata": {},
   "source": [
    "#####  | Theorem #2\n",
    "> $P(A,B|C) = P(A|B, C)P(B|C)$\n",
    "\n",
    "> __Proof__\n",
    ">> $\n",
    "\\begin{aligned}\n",
    "P(A, B|C) &= P(A, B, C) / P(C) \\\\\n",
    "&= P(A|B, C) P(B, C) / P(C) \\\\\n",
    "&= P(A|B, C) P(B|C)\n",
    "\\end{aligned}\n",
    "$"
   ]
  }
 ],
 "metadata": {
  "kernelspec": {
   "display_name": "Python [conda env:pytorch]",
   "language": "python",
   "name": "conda-env-pytorch-py"
  },
  "language_info": {
   "codemirror_mode": {
    "name": "ipython",
    "version": 3
   },
   "file_extension": ".py",
   "mimetype": "text/x-python",
   "name": "python",
   "nbconvert_exporter": "python",
   "pygments_lexer": "ipython3",
   "version": "3.7.9"
  }
 },
 "nbformat": 4,
 "nbformat_minor": 5
}
